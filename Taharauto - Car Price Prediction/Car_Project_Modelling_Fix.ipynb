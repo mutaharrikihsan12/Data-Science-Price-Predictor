{
 "cells": [
  {
   "cell_type": "code",
   "execution_count": 1,
   "metadata": {},
   "outputs": [],
   "source": [
    "import pandas as pd\n",
    "import numpy as np\n",
    "import seaborn as sns\n",
    "import matplotlib.pyplot as plt\n",
    "import warnings\n",
    "warnings.filterwarnings('ignore')"
   ]
  },
  {
   "cell_type": "markdown",
   "metadata": {},
   "source": [
    "# Import Clean Dataframe"
   ]
  },
  {
   "cell_type": "markdown",
   "metadata": {},
   "source": [
    "Make sure this data does not have NaN value "
   ]
  },
  {
   "cell_type": "code",
   "execution_count": 2,
   "metadata": {},
   "outputs": [
    {
     "data": {
      "text/plain": [
       "Make                 0\n",
       "Model                0\n",
       "Year                 0\n",
       "Engine Fuel Type     0\n",
       "Engine HP            0\n",
       "Engine Cylinders     0\n",
       "Transmission Type    0\n",
       "Driven_Wheels        0\n",
       "Number of Doors      0\n",
       "Vehicle Size         0\n",
       "Vehicle Style        0\n",
       "highway MPG          0\n",
       "city mpg             0\n",
       "Popularity           0\n",
       "MSRP                 0\n",
       "dtype: int64"
      ]
     },
     "execution_count": 2,
     "metadata": {},
     "output_type": "execute_result"
    }
   ],
   "source": [
    "df = pd.read_csv('clean_car_fix.csv')\n",
    "df.drop('Unnamed: 0',axis=1,inplace=True)\n",
    "df.isna().sum()"
   ]
  },
  {
   "cell_type": "markdown",
   "metadata": {},
   "source": [
    "# Feature Engineering"
   ]
  },
  {
   "cell_type": "markdown",
   "metadata": {},
   "source": [
    "In Some Columns there are some unusual categories that can make customers confuse. To give better understanding some values will be generalized with some familiar words. Those columns are ('Engine Fuel Type','Driven Wheels','Vehicle Style')"
   ]
  },
  {
   "cell_type": "code",
   "execution_count": 3,
   "metadata": {},
   "outputs": [
    {
     "name": "stdout",
     "output_type": "stream",
     "text": [
      "regular unleaded                                7156\n",
      "premium unleaded (required)                     2009\n",
      "premium unleaded (recommended)                  1523\n",
      "flex-fuel (unleaded/E85)                         899\n",
      "diesel                                           154\n",
      "electric                                          66\n",
      "flex-fuel (premium unleaded required/E85)         54\n",
      "flex-fuel (premium unleaded recommended/E85)      26\n",
      "flex-fuel (unleaded/natural gas)                   6\n",
      "natural gas                                        2\n",
      "Name: Engine Fuel Type, dtype: int64\n",
      "====================================\n",
      "====================================\n",
      "front wheel drive    4783\n",
      "rear wheel drive     3358\n",
      "all wheel drive      2353\n",
      "four wheel drive     1401\n",
      "Name: Driven_Wheels, dtype: int64\n",
      "====================================\n",
      "====================================\n",
      "Sedan                  3047\n",
      "4dr SUV                2488\n",
      "Coupe                  1209\n",
      "Convertible             791\n",
      "4dr Hatchback           702\n",
      "Crew Cab Pickup         681\n",
      "Extended Cab Pickup     623\n",
      "Wagon                   592\n",
      "2dr Hatchback           504\n",
      "Passenger Minivan       417\n",
      "Regular Cab Pickup      384\n",
      "2dr SUV                 134\n",
      "Passenger Van           128\n",
      "Cargo Van                95\n",
      "Cargo Minivan            71\n",
      "Convertible SUV          29\n",
      "Name: Vehicle Style, dtype: int64\n",
      "====================================\n",
      "====================================\n"
     ]
    }
   ],
   "source": [
    "# generalize some words into familiar category\n",
    "#Show Current Categorical Values\n",
    "print(df['Engine Fuel Type'].value_counts())\n",
    "print('====================================')\n",
    "print('====================================')\n",
    "print(df['Driven_Wheels'].value_counts())\n",
    "print('====================================')\n",
    "print('====================================')\n",
    "print(df['Vehicle Style'].value_counts())\n",
    "print('====================================')\n",
    "print('====================================')\n",
    "\n",
    "# Creating Function to generalize Engine Fuel Type\n",
    "def SimpleFuel(x):\n",
    "    if ('premium' in x['Engine Fuel Type']):\n",
    "        return 'Premium'\n",
    "    elif ('regular' in x['Engine Fuel Type']):\n",
    "        return 'Regular'\n",
    "    elif ('flex-fuel' in x['Engine Fuel Type']):\n",
    "        return 'Flex-Fuel'\n",
    "    elif ('diesel' in x['Engine Fuel Type']):\n",
    "        return 'Diesel'\n",
    "    elif ('electric' in x['Engine Fuel Type']):\n",
    "        return 'Electric'\n",
    "    else:\n",
    "        return 'Natural Gas'\n",
    "\n",
    "#Creating Function to generalize Driven Wheels\n",
    "def SimpleWheels(x):\n",
    "    if ('front' in x['Driven_Wheels']):\n",
    "        return '2WD-Front'\n",
    "    elif ('rear' in x['Driven_Wheels']):\n",
    "        return '2WD-Rear'\n",
    "    elif ('all' in x['Driven_Wheels']):\n",
    "        return 'AWD'\n",
    "    else:\n",
    "        return '4WD'\n",
    "\n",
    "#Creating Function to generalize Vehicle Style\n",
    "def SimpleStyle(x):\n",
    "    if ('Convertible SUV' in x['Vehicle Style']):\n",
    "        return 'Convertible'\n",
    "    elif ('SUV' in x['Vehicle Style']):\n",
    "        return 'SUV'\n",
    "    elif ('Convertible' in x['Vehicle Style']):\n",
    "        return 'Convertible'\n",
    "    elif ('Coupe' in x['Vehicle Style']):\n",
    "        return 'Coupe'\n",
    "    elif ('Hatchback' in x['Vehicle Style']):\n",
    "        return 'Hatchback'\n",
    "    elif ('Pickup' in x['Vehicle Style']):\n",
    "        return 'Pickup'\n",
    "    elif ('Minivan' in x['Vehicle Style']):\n",
    "        return 'Minivan'\n",
    "    elif ('Wagon' in x['Vehicle Style']):\n",
    "        return 'Wagon'\n",
    "    elif ('Van ' in x['Vehicle Style']):\n",
    "        return 'Wagon'\n",
    "    else:\n",
    "        return 'Sedan'\n"
   ]
  },
  {
   "cell_type": "markdown",
   "metadata": {},
   "source": [
    "Applying those functions into each column"
   ]
  },
  {
   "cell_type": "code",
   "execution_count": 4,
   "metadata": {},
   "outputs": [
    {
     "name": "stdout",
     "output_type": "stream",
     "text": [
      "Regular        7156\n",
      "Premium        3612\n",
      "Flex-Fuel       905\n",
      "Diesel          154\n",
      "Electric         66\n",
      "Natural Gas       2\n",
      "Name: Engine Fuel Type, dtype: int64\n",
      "====================================\n",
      "====================================\n",
      "2WD-Front    4783\n",
      "2WD-Rear     3358\n",
      "AWD          2353\n",
      "4WD          1401\n",
      "Name: Driven_Wheels, dtype: int64\n",
      "====================================\n",
      "====================================\n",
      "Sedan          3270\n",
      "SUV            2622\n",
      "Pickup         1688\n",
      "Coupe          1209\n",
      "Hatchback      1206\n",
      "Convertible     820\n",
      "Wagon           592\n",
      "Minivan         488\n",
      "Name: Vehicle Style, dtype: int64\n",
      "====================================\n",
      "====================================\n"
     ]
    }
   ],
   "source": [
    "#Generalize vehicle style\n",
    "df['Vehicle Style'] = df[['Vehicle Style']].apply(SimpleStyle, axis=1)\n",
    "#Generalize Driven_Wheels\n",
    "df['Driven_Wheels'] = df[['Driven_Wheels']].apply(SimpleWheels, axis=1)\n",
    "#Generalize Engine Fuel Type\n",
    "df['Engine Fuel Type'] = df[['Engine Fuel Type']].apply(SimpleFuel, axis=1)\n",
    "\n",
    "#Show Values\n",
    "print(df['Engine Fuel Type'].value_counts())\n",
    "print('====================================')\n",
    "print('====================================')\n",
    "print(df['Driven_Wheels'].value_counts())\n",
    "print('====================================')\n",
    "print('====================================')\n",
    "print(df['Vehicle Style'].value_counts())\n",
    "print('====================================')\n",
    "print('====================================')"
   ]
  },
  {
   "cell_type": "markdown",
   "metadata": {},
   "source": [
    "# 1st Modeling - From Clean Data"
   ]
  },
  {
   "cell_type": "markdown",
   "metadata": {},
   "source": [
    "The model to be made is a model that has a function to predict the price of a used car. <br>\n",
    "\n",
    "There are several algorithms that can be used to predict prices. However to streamline the experiment time, a function is created that can test these algorithms based on default modeling using Train Test Split and cross validation"
   ]
  },
  {
   "cell_type": "code",
   "execution_count": 5,
   "metadata": {},
   "outputs": [],
   "source": [
    "#using Train Test Split\n",
    "def regression(feature,target):\n",
    "    from sklearn.ensemble import RandomForestRegressor\n",
    "    from sklearn.linear_model import Lasso,Ridge,LinearRegression\n",
    "    from sklearn.model_selection import train_test_split\n",
    "    from sklearn import metrics\n",
    "    x_train, x_test, y_train, y_test = train_test_split(feature,target)\n",
    "    \n",
    "    algorithm = [RandomForestRegressor, Lasso, Ridge, LinearRegression]\n",
    "    model =[]\n",
    "    scores = []\n",
    "    for item in algorithm:\n",
    "        model.append(item())\n",
    "    \n",
    "    for item in model:\n",
    "        item.fit(x_train,y_train)\n",
    "        prediction = item.predict(x_test)\n",
    "        mae = metrics.mean_absolute_error(y_test,prediction)\n",
    "        mse = metrics.mean_squared_error(y_test,prediction)\n",
    "        rmse = np.sqrt(metrics.mean_squared_error(y_test, prediction))\n",
    "        temp = [mae,mse,rmse]\n",
    "        scores.append(temp)\n",
    "    df = pd.DataFrame(scores,columns=['MAE', 'MSE', 'RMSE'], index =['RandomForestRegressor', 'Lasso', 'Ridge', 'LinearRegression'])\n",
    "    return df"
   ]
  },
  {
   "cell_type": "code",
   "execution_count": 6,
   "metadata": {},
   "outputs": [],
   "source": [
    "#using cross validation\n",
    "def regressioncv(feature,target):\n",
    "    from sklearn.ensemble import RandomForestRegressor\n",
    "    from sklearn.linear_model import Lasso,Ridge,LinearRegression\n",
    "    from sklearn.model_selection import train_test_split\n",
    "    from sklearn import metrics\n",
    "    from sklearn.model_selection import cross_val_score\n",
    "    \n",
    "    scoring_CV_MAE=[]\n",
    "    scoring_CV_MSE=[]\n",
    "    scoring_cv_RMSE=[]\n",
    "    for item in [RandomForestRegressor, Lasso, Ridge, LinearRegression]:\n",
    "        val_mae=cross_val_score(item(),feature,target,cv=10, scoring='neg_mean_absolute_error')\n",
    "        val_mse=cross_val_score(item(),feature,target,cv=10, scoring='neg_mean_squared_error')\n",
    "        val_rmse=np.sqrt(val_mae)\n",
    "        val_r2=cross_val_score(item(),feature,target,cv=10, scoring='r2')\n",
    "        scoring_CV_MAE.append(val_mae.mean())\n",
    "        scoring_CV_MSE.append(val_mse.mean())\n",
    "    score_cv_df = pd.DataFrame({'Name' :['RandomForestRegressor', 'Lasso', 'Ridge', 'LinearRegression'] , 'MAE' : scoring_CV_MAE,\n",
    "                               'MSE' : scoring_CV_MSE})\n",
    "    return score_cv_df"
   ]
  },
  {
   "cell_type": "code",
   "execution_count": 7,
   "metadata": {},
   "outputs": [],
   "source": [
    "#Using KFold\n",
    "def regressionfold(feature,target):\n",
    "    from sklearn.ensemble import RandomForestRegressor\n",
    "    from sklearn.linear_model import Lasso,Ridge,LinearRegression\n",
    "    from sklearn.model_selection import KFold\n",
    "    from sklearn import metrics\n",
    "    list_rmse = []\n",
    "    list_mae = []\n",
    "    list_mse = []\n",
    "    \n",
    "    \n",
    "    algorithm = [RandomForestRegressor, Lasso, Ridge, LinearRegression]\n",
    "    model =[]\n",
    "    for item in algorithm:\n",
    "        model.append(item())\n",
    "        \n",
    "    kf = KFold(n_splits=5,shuffle=True,random_state=32)\n",
    "    for item in model:\n",
    "        for train_index, test_index in kf.split(feature,target):\n",
    "            new_mae=[]\n",
    "            new_mse=[]\n",
    "            new_rmse=[]\n",
    "            X_test, X_train, y_test, y_train = feature.iloc[test_index] , feature.iloc[train_index] , target.iloc[test_index],target.iloc[train_index]\n",
    "            item.fit(X_train,y_train)\n",
    "            prediction_test = item.predict(X_test)\n",
    "            new_mae.append(round(metrics.mean_absolute_error(y_test,prediction_test),2))\n",
    "            new_rmse.append(round(np.sqrt(metrics.mean_squared_error(y_test,prediction_test)),2))\n",
    "            new_mse.append(round(metrics.mean_squared_error(y_test,prediction_test),2))\n",
    "        list_mae.append(round(sum(new_mae)/5,2))\n",
    "        list_mse.append(round(sum(new_mse)/5,2))\n",
    "        list_rmse.append(round(sum(new_rmse)/5,2))\n",
    "    \n",
    "    eval_df = pd.DataFrame({'Name' :['RandomForestRegressor', 'Lasso', 'Ridge', 'LinearRegression'] , 'MAE' : list_mae,\n",
    "                               'MSE' : list_mse , 'RMSE' : list_rmse })\n",
    "    \n",
    "    return eval_df\n",
    "    "
   ]
  },
  {
   "cell_type": "markdown",
   "metadata": {},
   "source": [
    "Using One Hot Encoding"
   ]
  },
  {
   "cell_type": "code",
   "execution_count": 8,
   "metadata": {},
   "outputs": [
    {
     "data": {
      "text/html": [
       "<div>\n",
       "<style scoped>\n",
       "    .dataframe tbody tr th:only-of-type {\n",
       "        vertical-align: middle;\n",
       "    }\n",
       "\n",
       "    .dataframe tbody tr th {\n",
       "        vertical-align: top;\n",
       "    }\n",
       "\n",
       "    .dataframe thead th {\n",
       "        text-align: right;\n",
       "    }\n",
       "</style>\n",
       "<table border=\"1\" class=\"dataframe\">\n",
       "  <thead>\n",
       "    <tr style=\"text-align: right;\">\n",
       "      <th></th>\n",
       "      <th>Make_Alfa Romeo</th>\n",
       "      <th>Make_Aston Martin</th>\n",
       "      <th>Make_Audi</th>\n",
       "      <th>Make_BMW</th>\n",
       "      <th>Make_Bentley</th>\n",
       "      <th>Make_Bugatti</th>\n",
       "      <th>Make_Buick</th>\n",
       "      <th>Make_Cadillac</th>\n",
       "      <th>Make_Chevrolet</th>\n",
       "      <th>Make_Chrysler</th>\n",
       "      <th>...</th>\n",
       "      <th>Vehicle Style_Pickup</th>\n",
       "      <th>Vehicle Style_SUV</th>\n",
       "      <th>Vehicle Style_Sedan</th>\n",
       "      <th>Vehicle Style_Wagon</th>\n",
       "      <th>Year</th>\n",
       "      <th>Engine HP</th>\n",
       "      <th>Engine Cylinders</th>\n",
       "      <th>Number of Doors</th>\n",
       "      <th>highway MPG</th>\n",
       "      <th>city mpg</th>\n",
       "    </tr>\n",
       "  </thead>\n",
       "  <tbody>\n",
       "    <tr>\n",
       "      <th>0</th>\n",
       "      <td>0</td>\n",
       "      <td>0</td>\n",
       "      <td>0</td>\n",
       "      <td>1</td>\n",
       "      <td>0</td>\n",
       "      <td>0</td>\n",
       "      <td>0</td>\n",
       "      <td>0</td>\n",
       "      <td>0</td>\n",
       "      <td>0</td>\n",
       "      <td>...</td>\n",
       "      <td>0</td>\n",
       "      <td>0</td>\n",
       "      <td>0</td>\n",
       "      <td>0</td>\n",
       "      <td>2011</td>\n",
       "      <td>335.0</td>\n",
       "      <td>6.0</td>\n",
       "      <td>2.0</td>\n",
       "      <td>26</td>\n",
       "      <td>19</td>\n",
       "    </tr>\n",
       "    <tr>\n",
       "      <th>1</th>\n",
       "      <td>0</td>\n",
       "      <td>0</td>\n",
       "      <td>0</td>\n",
       "      <td>1</td>\n",
       "      <td>0</td>\n",
       "      <td>0</td>\n",
       "      <td>0</td>\n",
       "      <td>0</td>\n",
       "      <td>0</td>\n",
       "      <td>0</td>\n",
       "      <td>...</td>\n",
       "      <td>0</td>\n",
       "      <td>0</td>\n",
       "      <td>0</td>\n",
       "      <td>0</td>\n",
       "      <td>2011</td>\n",
       "      <td>300.0</td>\n",
       "      <td>6.0</td>\n",
       "      <td>2.0</td>\n",
       "      <td>28</td>\n",
       "      <td>19</td>\n",
       "    </tr>\n",
       "    <tr>\n",
       "      <th>2</th>\n",
       "      <td>0</td>\n",
       "      <td>0</td>\n",
       "      <td>0</td>\n",
       "      <td>1</td>\n",
       "      <td>0</td>\n",
       "      <td>0</td>\n",
       "      <td>0</td>\n",
       "      <td>0</td>\n",
       "      <td>0</td>\n",
       "      <td>0</td>\n",
       "      <td>...</td>\n",
       "      <td>0</td>\n",
       "      <td>0</td>\n",
       "      <td>0</td>\n",
       "      <td>0</td>\n",
       "      <td>2011</td>\n",
       "      <td>300.0</td>\n",
       "      <td>6.0</td>\n",
       "      <td>2.0</td>\n",
       "      <td>28</td>\n",
       "      <td>20</td>\n",
       "    </tr>\n",
       "    <tr>\n",
       "      <th>3</th>\n",
       "      <td>0</td>\n",
       "      <td>0</td>\n",
       "      <td>0</td>\n",
       "      <td>1</td>\n",
       "      <td>0</td>\n",
       "      <td>0</td>\n",
       "      <td>0</td>\n",
       "      <td>0</td>\n",
       "      <td>0</td>\n",
       "      <td>0</td>\n",
       "      <td>...</td>\n",
       "      <td>0</td>\n",
       "      <td>0</td>\n",
       "      <td>0</td>\n",
       "      <td>0</td>\n",
       "      <td>2011</td>\n",
       "      <td>230.0</td>\n",
       "      <td>6.0</td>\n",
       "      <td>2.0</td>\n",
       "      <td>28</td>\n",
       "      <td>18</td>\n",
       "    </tr>\n",
       "    <tr>\n",
       "      <th>4</th>\n",
       "      <td>0</td>\n",
       "      <td>0</td>\n",
       "      <td>0</td>\n",
       "      <td>1</td>\n",
       "      <td>0</td>\n",
       "      <td>0</td>\n",
       "      <td>0</td>\n",
       "      <td>0</td>\n",
       "      <td>0</td>\n",
       "      <td>0</td>\n",
       "      <td>...</td>\n",
       "      <td>0</td>\n",
       "      <td>0</td>\n",
       "      <td>0</td>\n",
       "      <td>0</td>\n",
       "      <td>2011</td>\n",
       "      <td>230.0</td>\n",
       "      <td>6.0</td>\n",
       "      <td>2.0</td>\n",
       "      <td>28</td>\n",
       "      <td>18</td>\n",
       "    </tr>\n",
       "  </tbody>\n",
       "</table>\n",
       "<p>5 rows × 987 columns</p>\n",
       "</div>"
      ],
      "text/plain": [
       "   Make_Alfa Romeo  Make_Aston Martin  Make_Audi  Make_BMW  Make_Bentley  \\\n",
       "0                0                  0          0         1             0   \n",
       "1                0                  0          0         1             0   \n",
       "2                0                  0          0         1             0   \n",
       "3                0                  0          0         1             0   \n",
       "4                0                  0          0         1             0   \n",
       "\n",
       "   Make_Bugatti  Make_Buick  Make_Cadillac  Make_Chevrolet  Make_Chrysler  \\\n",
       "0             0           0              0               0              0   \n",
       "1             0           0              0               0              0   \n",
       "2             0           0              0               0              0   \n",
       "3             0           0              0               0              0   \n",
       "4             0           0              0               0              0   \n",
       "\n",
       "   ...  Vehicle Style_Pickup  Vehicle Style_SUV  Vehicle Style_Sedan  \\\n",
       "0  ...                     0                  0                    0   \n",
       "1  ...                     0                  0                    0   \n",
       "2  ...                     0                  0                    0   \n",
       "3  ...                     0                  0                    0   \n",
       "4  ...                     0                  0                    0   \n",
       "\n",
       "   Vehicle Style_Wagon  Year  Engine HP  Engine Cylinders  Number of Doors  \\\n",
       "0                    0  2011      335.0               6.0              2.0   \n",
       "1                    0  2011      300.0               6.0              2.0   \n",
       "2                    0  2011      300.0               6.0              2.0   \n",
       "3                    0  2011      230.0               6.0              2.0   \n",
       "4                    0  2011      230.0               6.0              2.0   \n",
       "\n",
       "   highway MPG  city mpg  \n",
       "0           26        19  \n",
       "1           28        19  \n",
       "2           28        20  \n",
       "3           28        18  \n",
       "4           28        18  \n",
       "\n",
       "[5 rows x 987 columns]"
      ]
     },
     "execution_count": 8,
     "metadata": {},
     "output_type": "execute_result"
    }
   ],
   "source": [
    "#Our Target\n",
    "y= df['MSRP']\n",
    "# Features\n",
    "features_df = df.drop(['MSRP','Popularity'],axis=1)\n",
    "#Change Categorical Value into Indicator Variable\n",
    "x_temp1 = pd.get_dummies(features_df.drop(['Year','Engine HP','Engine Cylinders',\n",
    "                                'Number of Doors','highway MPG','city mpg'],axis=1),drop_first=True)\n",
    "x_temp2 = features_df[['Year','Engine HP','Engine Cylinders',\n",
    "                                'Number of Doors','highway MPG','city mpg']]\n",
    "x = pd.concat([x_temp1,x_temp2],axis=1)\n",
    "x.head()"
   ]
  },
  {
   "cell_type": "markdown",
   "metadata": {},
   "source": [
    "Using Train Test Split"
   ]
  },
  {
   "cell_type": "code",
   "execution_count": 9,
   "metadata": {},
   "outputs": [
    {
     "data": {
      "text/html": [
       "<div>\n",
       "<style scoped>\n",
       "    .dataframe tbody tr th:only-of-type {\n",
       "        vertical-align: middle;\n",
       "    }\n",
       "\n",
       "    .dataframe tbody tr th {\n",
       "        vertical-align: top;\n",
       "    }\n",
       "\n",
       "    .dataframe thead th {\n",
       "        text-align: right;\n",
       "    }\n",
       "</style>\n",
       "<table border=\"1\" class=\"dataframe\">\n",
       "  <thead>\n",
       "    <tr style=\"text-align: right;\">\n",
       "      <th></th>\n",
       "      <th>MAE</th>\n",
       "      <th>MSE</th>\n",
       "      <th>RMSE</th>\n",
       "    </tr>\n",
       "  </thead>\n",
       "  <tbody>\n",
       "    <tr>\n",
       "      <th>RandomForestRegressor</th>\n",
       "      <td>3098.017514</td>\n",
       "      <td>3.565152e+07</td>\n",
       "      <td>5970.889288</td>\n",
       "    </tr>\n",
       "    <tr>\n",
       "      <th>Lasso</th>\n",
       "      <td>4034.625554</td>\n",
       "      <td>5.233936e+07</td>\n",
       "      <td>7234.594829</td>\n",
       "    </tr>\n",
       "    <tr>\n",
       "      <th>Ridge</th>\n",
       "      <td>5644.999674</td>\n",
       "      <td>9.019045e+07</td>\n",
       "      <td>9496.865235</td>\n",
       "    </tr>\n",
       "    <tr>\n",
       "      <th>LinearRegression</th>\n",
       "      <td>3736.301911</td>\n",
       "      <td>5.189108e+07</td>\n",
       "      <td>7203.546055</td>\n",
       "    </tr>\n",
       "  </tbody>\n",
       "</table>\n",
       "</div>"
      ],
      "text/plain": [
       "                               MAE           MSE         RMSE\n",
       "RandomForestRegressor  3098.017514  3.565152e+07  5970.889288\n",
       "Lasso                  4034.625554  5.233936e+07  7234.594829\n",
       "Ridge                  5644.999674  9.019045e+07  9496.865235\n",
       "LinearRegression       3736.301911  5.189108e+07  7203.546055"
      ]
     },
     "execution_count": 9,
     "metadata": {},
     "output_type": "execute_result"
    }
   ],
   "source": [
    "regression(x,y)"
   ]
  },
  {
   "cell_type": "markdown",
   "metadata": {},
   "source": [
    "Using Cross_val function"
   ]
  },
  {
   "cell_type": "code",
   "execution_count": 10,
   "metadata": {},
   "outputs": [
    {
     "data": {
      "text/html": [
       "<div>\n",
       "<style scoped>\n",
       "    .dataframe tbody tr th:only-of-type {\n",
       "        vertical-align: middle;\n",
       "    }\n",
       "\n",
       "    .dataframe tbody tr th {\n",
       "        vertical-align: top;\n",
       "    }\n",
       "\n",
       "    .dataframe thead th {\n",
       "        text-align: right;\n",
       "    }\n",
       "</style>\n",
       "<table border=\"1\" class=\"dataframe\">\n",
       "  <thead>\n",
       "    <tr style=\"text-align: right;\">\n",
       "      <th></th>\n",
       "      <th>Name</th>\n",
       "      <th>MAE</th>\n",
       "      <th>MSE</th>\n",
       "    </tr>\n",
       "  </thead>\n",
       "  <tbody>\n",
       "    <tr>\n",
       "      <th>0</th>\n",
       "      <td>RandomForestRegressor</td>\n",
       "      <td>-8.986183e+03</td>\n",
       "      <td>-1.178295e+09</td>\n",
       "    </tr>\n",
       "    <tr>\n",
       "      <th>1</th>\n",
       "      <td>Lasso</td>\n",
       "      <td>-1.147264e+04</td>\n",
       "      <td>-2.449599e+09</td>\n",
       "    </tr>\n",
       "    <tr>\n",
       "      <th>2</th>\n",
       "      <td>Ridge</td>\n",
       "      <td>-1.388629e+04</td>\n",
       "      <td>-1.575284e+09</td>\n",
       "    </tr>\n",
       "    <tr>\n",
       "      <th>3</th>\n",
       "      <td>LinearRegression</td>\n",
       "      <td>-2.854054e+12</td>\n",
       "      <td>-1.048424e+26</td>\n",
       "    </tr>\n",
       "  </tbody>\n",
       "</table>\n",
       "</div>"
      ],
      "text/plain": [
       "                    Name           MAE           MSE\n",
       "0  RandomForestRegressor -8.986183e+03 -1.178295e+09\n",
       "1                  Lasso -1.147264e+04 -2.449599e+09\n",
       "2                  Ridge -1.388629e+04 -1.575284e+09\n",
       "3       LinearRegression -2.854054e+12 -1.048424e+26"
      ]
     },
     "execution_count": 10,
     "metadata": {},
     "output_type": "execute_result"
    }
   ],
   "source": [
    "regressioncv(x,y)"
   ]
  },
  {
   "cell_type": "markdown",
   "metadata": {},
   "source": [
    "Using kFold Function"
   ]
  },
  {
   "cell_type": "code",
   "execution_count": 11,
   "metadata": {},
   "outputs": [
    {
     "data": {
      "text/html": [
       "<div>\n",
       "<style scoped>\n",
       "    .dataframe tbody tr th:only-of-type {\n",
       "        vertical-align: middle;\n",
       "    }\n",
       "\n",
       "    .dataframe tbody tr th {\n",
       "        vertical-align: top;\n",
       "    }\n",
       "\n",
       "    .dataframe thead th {\n",
       "        text-align: right;\n",
       "    }\n",
       "</style>\n",
       "<table border=\"1\" class=\"dataframe\">\n",
       "  <thead>\n",
       "    <tr style=\"text-align: right;\">\n",
       "      <th></th>\n",
       "      <th>Name</th>\n",
       "      <th>MAE</th>\n",
       "      <th>MSE</th>\n",
       "      <th>RMSE</th>\n",
       "    </tr>\n",
       "  </thead>\n",
       "  <tbody>\n",
       "    <tr>\n",
       "      <th>0</th>\n",
       "      <td>RandomForestRegressor</td>\n",
       "      <td>622.85</td>\n",
       "      <td>10043756.48</td>\n",
       "      <td>1417.30</td>\n",
       "    </tr>\n",
       "    <tr>\n",
       "      <th>1</th>\n",
       "      <td>Lasso</td>\n",
       "      <td>783.85</td>\n",
       "      <td>9058847.71</td>\n",
       "      <td>1346.02</td>\n",
       "    </tr>\n",
       "    <tr>\n",
       "      <th>2</th>\n",
       "      <td>Ridge</td>\n",
       "      <td>1090.68</td>\n",
       "      <td>14451704.10</td>\n",
       "      <td>1700.10</td>\n",
       "    </tr>\n",
       "    <tr>\n",
       "      <th>3</th>\n",
       "      <td>LinearRegression</td>\n",
       "      <td>726.51</td>\n",
       "      <td>9025765.20</td>\n",
       "      <td>1343.56</td>\n",
       "    </tr>\n",
       "  </tbody>\n",
       "</table>\n",
       "</div>"
      ],
      "text/plain": [
       "                    Name      MAE          MSE     RMSE\n",
       "0  RandomForestRegressor   622.85  10043756.48  1417.30\n",
       "1                  Lasso   783.85   9058847.71  1346.02\n",
       "2                  Ridge  1090.68  14451704.10  1700.10\n",
       "3       LinearRegression   726.51   9025765.20  1343.56"
      ]
     },
     "execution_count": 11,
     "metadata": {},
     "output_type": "execute_result"
    }
   ],
   "source": [
    "regressionfold(x,y)"
   ]
  },
  {
   "cell_type": "markdown",
   "metadata": {},
   "source": [
    "From Those Modeling, RandomForestRegressor is choosen. Then plot the real price and the prediction using seaborn"
   ]
  },
  {
   "cell_type": "code",
   "execution_count": 12,
   "metadata": {},
   "outputs": [
    {
     "name": "stdout",
     "output_type": "stream",
     "text": [
      "Nilai MAEnya adalah 3571.2389947989586\n",
      "Nilai MSEnya adalah 239708767.0592186\n",
      "Nilai RNSEnya adalah 15482.531028847272\n"
     ]
    }
   ],
   "source": [
    "from sklearn.model_selection import train_test_split\n",
    "from sklearn import metrics\n",
    "from sklearn.ensemble import RandomForestRegressor\n",
    "x_train,x_test, y_train,y_test = train_test_split(x,y,random_state=32,test_size=0.2)\n",
    "model_1 = RandomForestRegressor(random_state=32)\n",
    "model_1.fit(x_train,y_train)\n",
    "prediction = model_1.predict(x_test)\n",
    "mae = metrics.mean_absolute_error(y_test,prediction)\n",
    "mse = metrics.mean_squared_error(y_test,prediction)\n",
    "rnse = np.sqrt(metrics.mean_squared_error(y_test, prediction))\n",
    "print(f'Nilai MAEnya adalah {mae}')\n",
    "print(f'Nilai MSEnya adalah {mse}')\n",
    "print(f'Nilai RNSEnya adalah {rnse}')"
   ]
  },
  {
   "cell_type": "code",
   "execution_count": 13,
   "metadata": {},
   "outputs": [
    {
     "data": {
      "text/plain": [
       "Text(0, 0.5, 'Real Price')"
      ]
     },
     "execution_count": 13,
     "metadata": {},
     "output_type": "execute_result"
    },
    {
     "data": {
      "image/png": "[encoded data removed]",
      "text/plain": [
       "<Figure size 1080x576 with 1 Axes>"
      ]
     },
     "metadata": {
      "needs_background": "light"
     },
     "output_type": "display_data"
    }
   ],
   "source": [
    "plt.figure(figsize=(15,8))\n",
    "sns.scatterplot(prediction,y_test)\n",
    "plt.xlabel('Prediction')\n",
    "plt.ylabel('Real Price')"
   ]
  },
  {
   "cell_type": "markdown",
   "metadata": {},
   "source": [
    "At the begining there is no process to delete outlier price. <br>\n",
    "Take out outlier price from this data"
   ]
  },
  {
   "cell_type": "markdown",
   "metadata": {},
   "source": [
    "# 2nd Modeling -  New Data By Removing Outlier"
   ]
  },
  {
   "cell_type": "code",
   "execution_count": 14,
   "metadata": {},
   "outputs": [],
   "source": [
    "# Remove Outlier Function\n",
    "def check_outlier(data, col):\n",
    "    q1 = data[col].quantile(0.25)\n",
    "    q3 = data[col].quantile(0.75)\n",
    "    iqr = q3-q1\n",
    "    upper_limit = q3 + (1.5 * iqr)\n",
    "    lower_limit = q1 - (1.5 * iqr)\n",
    "    return data[(data[col] < lower_limit) | (data[col] > upper_limit)].index ,upper_limit,lower_limit"
   ]
  },
  {
   "cell_type": "code",
   "execution_count": 15,
   "metadata": {
    "scrolled": true
   },
   "outputs": [
    {
     "data": {
      "text/html": [
       "<div>\n",
       "<style scoped>\n",
       "    .dataframe tbody tr th:only-of-type {\n",
       "        vertical-align: middle;\n",
       "    }\n",
       "\n",
       "    .dataframe tbody tr th {\n",
       "        vertical-align: top;\n",
       "    }\n",
       "\n",
       "    .dataframe thead th {\n",
       "        text-align: right;\n",
       "    }\n",
       "</style>\n",
       "<table border=\"1\" class=\"dataframe\">\n",
       "  <thead>\n",
       "    <tr style=\"text-align: right;\">\n",
       "      <th></th>\n",
       "      <th>Make</th>\n",
       "      <th>Model</th>\n",
       "      <th>Year</th>\n",
       "      <th>Engine Fuel Type</th>\n",
       "      <th>Engine HP</th>\n",
       "      <th>Engine Cylinders</th>\n",
       "      <th>Transmission Type</th>\n",
       "      <th>Driven_Wheels</th>\n",
       "      <th>Number of Doors</th>\n",
       "      <th>Vehicle Size</th>\n",
       "      <th>Vehicle Style</th>\n",
       "      <th>highway MPG</th>\n",
       "      <th>city mpg</th>\n",
       "      <th>Popularity</th>\n",
       "      <th>MSRP</th>\n",
       "    </tr>\n",
       "  </thead>\n",
       "  <tbody>\n",
       "    <tr>\n",
       "      <th>0</th>\n",
       "      <td>BMW</td>\n",
       "      <td>1 Series M</td>\n",
       "      <td>2011</td>\n",
       "      <td>Premium</td>\n",
       "      <td>335.0</td>\n",
       "      <td>6.0</td>\n",
       "      <td>MANUAL</td>\n",
       "      <td>2WD-Rear</td>\n",
       "      <td>2.0</td>\n",
       "      <td>Compact</td>\n",
       "      <td>Coupe</td>\n",
       "      <td>26</td>\n",
       "      <td>19</td>\n",
       "      <td>3916</td>\n",
       "      <td>46135</td>\n",
       "    </tr>\n",
       "    <tr>\n",
       "      <th>1</th>\n",
       "      <td>BMW</td>\n",
       "      <td>1 Series</td>\n",
       "      <td>2011</td>\n",
       "      <td>Premium</td>\n",
       "      <td>300.0</td>\n",
       "      <td>6.0</td>\n",
       "      <td>MANUAL</td>\n",
       "      <td>2WD-Rear</td>\n",
       "      <td>2.0</td>\n",
       "      <td>Compact</td>\n",
       "      <td>Convertible</td>\n",
       "      <td>28</td>\n",
       "      <td>19</td>\n",
       "      <td>3916</td>\n",
       "      <td>40650</td>\n",
       "    </tr>\n",
       "    <tr>\n",
       "      <th>2</th>\n",
       "      <td>BMW</td>\n",
       "      <td>1 Series</td>\n",
       "      <td>2011</td>\n",
       "      <td>Premium</td>\n",
       "      <td>300.0</td>\n",
       "      <td>6.0</td>\n",
       "      <td>MANUAL</td>\n",
       "      <td>2WD-Rear</td>\n",
       "      <td>2.0</td>\n",
       "      <td>Compact</td>\n",
       "      <td>Coupe</td>\n",
       "      <td>28</td>\n",
       "      <td>20</td>\n",
       "      <td>3916</td>\n",
       "      <td>36350</td>\n",
       "    </tr>\n",
       "    <tr>\n",
       "      <th>3</th>\n",
       "      <td>BMW</td>\n",
       "      <td>1 Series</td>\n",
       "      <td>2011</td>\n",
       "      <td>Premium</td>\n",
       "      <td>230.0</td>\n",
       "      <td>6.0</td>\n",
       "      <td>MANUAL</td>\n",
       "      <td>2WD-Rear</td>\n",
       "      <td>2.0</td>\n",
       "      <td>Compact</td>\n",
       "      <td>Coupe</td>\n",
       "      <td>28</td>\n",
       "      <td>18</td>\n",
       "      <td>3916</td>\n",
       "      <td>29450</td>\n",
       "    </tr>\n",
       "    <tr>\n",
       "      <th>4</th>\n",
       "      <td>BMW</td>\n",
       "      <td>1 Series</td>\n",
       "      <td>2011</td>\n",
       "      <td>Premium</td>\n",
       "      <td>230.0</td>\n",
       "      <td>6.0</td>\n",
       "      <td>MANUAL</td>\n",
       "      <td>2WD-Rear</td>\n",
       "      <td>2.0</td>\n",
       "      <td>Compact</td>\n",
       "      <td>Convertible</td>\n",
       "      <td>28</td>\n",
       "      <td>18</td>\n",
       "      <td>3916</td>\n",
       "      <td>34500</td>\n",
       "    </tr>\n",
       "  </tbody>\n",
       "</table>\n",
       "</div>"
      ],
      "text/plain": [
       "  Make       Model  Year Engine Fuel Type  Engine HP  Engine Cylinders  \\\n",
       "0  BMW  1 Series M  2011          Premium      335.0               6.0   \n",
       "1  BMW    1 Series  2011          Premium      300.0               6.0   \n",
       "2  BMW    1 Series  2011          Premium      300.0               6.0   \n",
       "3  BMW    1 Series  2011          Premium      230.0               6.0   \n",
       "4  BMW    1 Series  2011          Premium      230.0               6.0   \n",
       "\n",
       "  Transmission Type Driven_Wheels  Number of Doors Vehicle Size Vehicle Style  \\\n",
       "0            MANUAL      2WD-Rear              2.0      Compact         Coupe   \n",
       "1            MANUAL      2WD-Rear              2.0      Compact   Convertible   \n",
       "2            MANUAL      2WD-Rear              2.0      Compact         Coupe   \n",
       "3            MANUAL      2WD-Rear              2.0      Compact         Coupe   \n",
       "4            MANUAL      2WD-Rear              2.0      Compact   Convertible   \n",
       "\n",
       "   highway MPG  city mpg  Popularity   MSRP  \n",
       "0           26        19        3916  46135  \n",
       "1           28        19        3916  40650  \n",
       "2           28        20        3916  36350  \n",
       "3           28        18        3916  29450  \n",
       "4           28        18        3916  34500  "
      ]
     },
     "execution_count": 15,
     "metadata": {},
     "output_type": "execute_result"
    }
   ],
   "source": [
    "index_to_drop,upper,lower= check_outlier(df,'MSRP')\n",
    "df_new = df.drop(index_to_drop)\n",
    "df_new.head()"
   ]
  },
  {
   "cell_type": "markdown",
   "metadata": {},
   "source": [
    "Investigate Price Distribution"
   ]
  },
  {
   "cell_type": "code",
   "execution_count": 16,
   "metadata": {},
   "outputs": [
    {
     "data": {
      "text/plain": [
       "([<matplotlib.axis.XTick at 0x2195cc04320>,\n",
       "  <matplotlib.axis.XTick at 0x2195cc04ef0>,\n",
       "  <matplotlib.axis.XTick at 0x2195cc04518>,\n",
       "  <matplotlib.axis.XTick at 0x2195cc76c88>,\n",
       "  <matplotlib.axis.XTick at 0x2195cd5a240>,\n",
       "  <matplotlib.axis.XTick at 0x2195cd5a710>,\n",
       "  <matplotlib.axis.XTick at 0x2195cd5abe0>,\n",
       "  <matplotlib.axis.XTick at 0x2195cd63198>],\n",
       " <a list of 8 Text xticklabel objects>)"
      ]
     },
     "execution_count": 16,
     "metadata": {},
     "output_type": "execute_result"
    },
    {
     "data": {
      "image/png": "[encoded data removed]",
      "text/plain": [
       "<Figure size 1080x576 with 1 Axes>"
      ]
     },
     "metadata": {
      "needs_background": "light"
     },
     "output_type": "display_data"
    }
   ],
   "source": [
    "plt.figure(figsize=(15,8))\n",
    "sns.distplot(df_new['MSRP'])\n",
    "plt.xticks(np.arange(0, 80000, step=10000))"
   ]
  },
  {
   "cell_type": "code",
   "execution_count": 17,
   "metadata": {},
   "outputs": [],
   "source": [
    "outlier_manual_drop = df_new[df_new['MSRP'] < 10000].index"
   ]
  },
  {
   "cell_type": "code",
   "execution_count": 18,
   "metadata": {},
   "outputs": [],
   "source": [
    "df_new.drop(outlier_manual_drop,inplace=True)"
   ]
  },
  {
   "cell_type": "code",
   "execution_count": 19,
   "metadata": {},
   "outputs": [],
   "source": [
    "df_new = df_new.reset_index().drop('index',axis=1)"
   ]
  },
  {
   "cell_type": "code",
   "execution_count": 20,
   "metadata": {},
   "outputs": [
    {
     "data": {
      "text/html": [
       "<div>\n",
       "<style scoped>\n",
       "    .dataframe tbody tr th:only-of-type {\n",
       "        vertical-align: middle;\n",
       "    }\n",
       "\n",
       "    .dataframe tbody tr th {\n",
       "        vertical-align: top;\n",
       "    }\n",
       "\n",
       "    .dataframe thead th {\n",
       "        text-align: right;\n",
       "    }\n",
       "</style>\n",
       "<table border=\"1\" class=\"dataframe\">\n",
       "  <thead>\n",
       "    <tr style=\"text-align: right;\">\n",
       "      <th></th>\n",
       "      <th>Make_Alfa Romeo</th>\n",
       "      <th>Make_Audi</th>\n",
       "      <th>Make_BMW</th>\n",
       "      <th>Make_Buick</th>\n",
       "      <th>Make_Cadillac</th>\n",
       "      <th>Make_Chevrolet</th>\n",
       "      <th>Make_Chrysler</th>\n",
       "      <th>Make_Dodge</th>\n",
       "      <th>Make_FIAT</th>\n",
       "      <th>Make_Ford</th>\n",
       "      <th>...</th>\n",
       "      <th>Vehicle Style_Pickup</th>\n",
       "      <th>Vehicle Style_SUV</th>\n",
       "      <th>Vehicle Style_Sedan</th>\n",
       "      <th>Vehicle Style_Wagon</th>\n",
       "      <th>Year</th>\n",
       "      <th>Engine HP</th>\n",
       "      <th>Engine Cylinders</th>\n",
       "      <th>Number of Doors</th>\n",
       "      <th>highway MPG</th>\n",
       "      <th>city mpg</th>\n",
       "    </tr>\n",
       "  </thead>\n",
       "  <tbody>\n",
       "    <tr>\n",
       "      <th>0</th>\n",
       "      <td>0</td>\n",
       "      <td>0</td>\n",
       "      <td>1</td>\n",
       "      <td>0</td>\n",
       "      <td>0</td>\n",
       "      <td>0</td>\n",
       "      <td>0</td>\n",
       "      <td>0</td>\n",
       "      <td>0</td>\n",
       "      <td>0</td>\n",
       "      <td>...</td>\n",
       "      <td>0</td>\n",
       "      <td>0</td>\n",
       "      <td>0</td>\n",
       "      <td>0</td>\n",
       "      <td>2011</td>\n",
       "      <td>335.0</td>\n",
       "      <td>6.0</td>\n",
       "      <td>2.0</td>\n",
       "      <td>26</td>\n",
       "      <td>19</td>\n",
       "    </tr>\n",
       "    <tr>\n",
       "      <th>1</th>\n",
       "      <td>0</td>\n",
       "      <td>0</td>\n",
       "      <td>1</td>\n",
       "      <td>0</td>\n",
       "      <td>0</td>\n",
       "      <td>0</td>\n",
       "      <td>0</td>\n",
       "      <td>0</td>\n",
       "      <td>0</td>\n",
       "      <td>0</td>\n",
       "      <td>...</td>\n",
       "      <td>0</td>\n",
       "      <td>0</td>\n",
       "      <td>0</td>\n",
       "      <td>0</td>\n",
       "      <td>2011</td>\n",
       "      <td>300.0</td>\n",
       "      <td>6.0</td>\n",
       "      <td>2.0</td>\n",
       "      <td>28</td>\n",
       "      <td>19</td>\n",
       "    </tr>\n",
       "    <tr>\n",
       "      <th>2</th>\n",
       "      <td>0</td>\n",
       "      <td>0</td>\n",
       "      <td>1</td>\n",
       "      <td>0</td>\n",
       "      <td>0</td>\n",
       "      <td>0</td>\n",
       "      <td>0</td>\n",
       "      <td>0</td>\n",
       "      <td>0</td>\n",
       "      <td>0</td>\n",
       "      <td>...</td>\n",
       "      <td>0</td>\n",
       "      <td>0</td>\n",
       "      <td>0</td>\n",
       "      <td>0</td>\n",
       "      <td>2011</td>\n",
       "      <td>300.0</td>\n",
       "      <td>6.0</td>\n",
       "      <td>2.0</td>\n",
       "      <td>28</td>\n",
       "      <td>20</td>\n",
       "    </tr>\n",
       "    <tr>\n",
       "      <th>3</th>\n",
       "      <td>0</td>\n",
       "      <td>0</td>\n",
       "      <td>1</td>\n",
       "      <td>0</td>\n",
       "      <td>0</td>\n",
       "      <td>0</td>\n",
       "      <td>0</td>\n",
       "      <td>0</td>\n",
       "      <td>0</td>\n",
       "      <td>0</td>\n",
       "      <td>...</td>\n",
       "      <td>0</td>\n",
       "      <td>0</td>\n",
       "      <td>0</td>\n",
       "      <td>0</td>\n",
       "      <td>2011</td>\n",
       "      <td>230.0</td>\n",
       "      <td>6.0</td>\n",
       "      <td>2.0</td>\n",
       "      <td>28</td>\n",
       "      <td>18</td>\n",
       "    </tr>\n",
       "    <tr>\n",
       "      <th>4</th>\n",
       "      <td>0</td>\n",
       "      <td>0</td>\n",
       "      <td>1</td>\n",
       "      <td>0</td>\n",
       "      <td>0</td>\n",
       "      <td>0</td>\n",
       "      <td>0</td>\n",
       "      <td>0</td>\n",
       "      <td>0</td>\n",
       "      <td>0</td>\n",
       "      <td>...</td>\n",
       "      <td>0</td>\n",
       "      <td>0</td>\n",
       "      <td>0</td>\n",
       "      <td>0</td>\n",
       "      <td>2011</td>\n",
       "      <td>230.0</td>\n",
       "      <td>6.0</td>\n",
       "      <td>2.0</td>\n",
       "      <td>28</td>\n",
       "      <td>18</td>\n",
       "    </tr>\n",
       "  </tbody>\n",
       "</table>\n",
       "<p>5 rows × 682 columns</p>\n",
       "</div>"
      ],
      "text/plain": [
       "   Make_Alfa Romeo  Make_Audi  Make_BMW  Make_Buick  Make_Cadillac  \\\n",
       "0                0          0         1           0              0   \n",
       "1                0          0         1           0              0   \n",
       "2                0          0         1           0              0   \n",
       "3                0          0         1           0              0   \n",
       "4                0          0         1           0              0   \n",
       "\n",
       "   Make_Chevrolet  Make_Chrysler  Make_Dodge  Make_FIAT  Make_Ford  ...  \\\n",
       "0               0              0           0          0          0  ...   \n",
       "1               0              0           0          0          0  ...   \n",
       "2               0              0           0          0          0  ...   \n",
       "3               0              0           0          0          0  ...   \n",
       "4               0              0           0          0          0  ...   \n",
       "\n",
       "   Vehicle Style_Pickup  Vehicle Style_SUV  Vehicle Style_Sedan  \\\n",
       "0                     0                  0                    0   \n",
       "1                     0                  0                    0   \n",
       "2                     0                  0                    0   \n",
       "3                     0                  0                    0   \n",
       "4                     0                  0                    0   \n",
       "\n",
       "   Vehicle Style_Wagon  Year  Engine HP  Engine Cylinders  Number of Doors  \\\n",
       "0                    0  2011      335.0               6.0              2.0   \n",
       "1                    0  2011      300.0               6.0              2.0   \n",
       "2                    0  2011      300.0               6.0              2.0   \n",
       "3                    0  2011      230.0               6.0              2.0   \n",
       "4                    0  2011      230.0               6.0              2.0   \n",
       "\n",
       "   highway MPG  city mpg  \n",
       "0           26        19  \n",
       "1           28        19  \n",
       "2           28        20  \n",
       "3           28        18  \n",
       "4           28        18  \n",
       "\n",
       "[5 rows x 682 columns]"
      ]
     },
     "execution_count": 20,
     "metadata": {},
     "output_type": "execute_result"
    }
   ],
   "source": [
    "#Our Target\n",
    "new_y= df_new['MSRP']\n",
    "# Features\n",
    "new_features_df = df_new.drop(['MSRP','Popularity'],axis=1)\n",
    "#Change Categorical Value into Indicator Variable\n",
    "new_x_temp1 = pd.get_dummies(new_features_df.drop(['Year','Engine HP','Engine Cylinders',\n",
    "                                'Number of Doors','highway MPG','city mpg'],axis=1),drop_first=True)\n",
    "new_x_temp2 = new_features_df[['Year','Engine HP','Engine Cylinders',\n",
    "                                'Number of Doors','highway MPG','city mpg']]\n",
    "new_x = pd.concat([new_x_temp1,new_x_temp2],axis=1)\n",
    "new_x.head()"
   ]
  },
  {
   "cell_type": "code",
   "execution_count": 21,
   "metadata": {},
   "outputs": [
    {
     "data": {
      "text/plain": [
       "<matplotlib.axes._subplots.AxesSubplot at 0x2195cdacda0>"
      ]
     },
     "execution_count": 21,
     "metadata": {},
     "output_type": "execute_result"
    },
    {
     "data": {
      "image/png": "[encoded data removed]",
      "text/plain": [
       "<Figure size 432x288 with 1 Axes>"
      ]
     },
     "metadata": {
      "needs_background": "light"
     },
     "output_type": "display_data"
    }
   ],
   "source": [
    "sns.distplot(df_new['MSRP'])"
   ]
  },
  {
   "cell_type": "code",
   "execution_count": 22,
   "metadata": {},
   "outputs": [
    {
     "data": {
      "text/html": [
       "<div>\n",
       "<style scoped>\n",
       "    .dataframe tbody tr th:only-of-type {\n",
       "        vertical-align: middle;\n",
       "    }\n",
       "\n",
       "    .dataframe tbody tr th {\n",
       "        vertical-align: top;\n",
       "    }\n",
       "\n",
       "    .dataframe thead th {\n",
       "        text-align: right;\n",
       "    }\n",
       "</style>\n",
       "<table border=\"1\" class=\"dataframe\">\n",
       "  <thead>\n",
       "    <tr style=\"text-align: right;\">\n",
       "      <th></th>\n",
       "      <th>MAE</th>\n",
       "      <th>MSE</th>\n",
       "      <th>RMSE</th>\n",
       "    </tr>\n",
       "  </thead>\n",
       "  <tbody>\n",
       "    <tr>\n",
       "      <th>RandomForestRegressor</th>\n",
       "      <td>2.648005e+03</td>\n",
       "      <td>1.268833e+07</td>\n",
       "      <td>3.562068e+03</td>\n",
       "    </tr>\n",
       "    <tr>\n",
       "      <th>Lasso</th>\n",
       "      <td>2.497331e+03</td>\n",
       "      <td>1.057476e+07</td>\n",
       "      <td>3.251886e+03</td>\n",
       "    </tr>\n",
       "    <tr>\n",
       "      <th>Ridge</th>\n",
       "      <td>2.440621e+03</td>\n",
       "      <td>1.021507e+07</td>\n",
       "      <td>3.196103e+03</td>\n",
       "    </tr>\n",
       "    <tr>\n",
       "      <th>LinearRegression</th>\n",
       "      <td>2.509606e+09</td>\n",
       "      <td>1.214783e+21</td>\n",
       "      <td>3.485374e+10</td>\n",
       "    </tr>\n",
       "  </tbody>\n",
       "</table>\n",
       "</div>"
      ],
      "text/plain": [
       "                                MAE           MSE          RMSE\n",
       "RandomForestRegressor  2.648005e+03  1.268833e+07  3.562068e+03\n",
       "Lasso                  2.497331e+03  1.057476e+07  3.251886e+03\n",
       "Ridge                  2.440621e+03  1.021507e+07  3.196103e+03\n",
       "LinearRegression       2.509606e+09  1.214783e+21  3.485374e+10"
      ]
     },
     "execution_count": 22,
     "metadata": {},
     "output_type": "execute_result"
    }
   ],
   "source": [
    "regression(new_x,new_y)"
   ]
  },
  {
   "cell_type": "code",
   "execution_count": 23,
   "metadata": {},
   "outputs": [
    {
     "data": {
      "text/html": [
       "<div>\n",
       "<style scoped>\n",
       "    .dataframe tbody tr th:only-of-type {\n",
       "        vertical-align: middle;\n",
       "    }\n",
       "\n",
       "    .dataframe tbody tr th {\n",
       "        vertical-align: top;\n",
       "    }\n",
       "\n",
       "    .dataframe thead th {\n",
       "        text-align: right;\n",
       "    }\n",
       "</style>\n",
       "<table border=\"1\" class=\"dataframe\">\n",
       "  <thead>\n",
       "    <tr style=\"text-align: right;\">\n",
       "      <th></th>\n",
       "      <th>Name</th>\n",
       "      <th>MAE</th>\n",
       "      <th>MSE</th>\n",
       "    </tr>\n",
       "  </thead>\n",
       "  <tbody>\n",
       "    <tr>\n",
       "      <th>0</th>\n",
       "      <td>RandomForestRegressor</td>\n",
       "      <td>-4.453264e+03</td>\n",
       "      <td>-4.033016e+07</td>\n",
       "    </tr>\n",
       "    <tr>\n",
       "      <th>1</th>\n",
       "      <td>Lasso</td>\n",
       "      <td>-4.024855e+03</td>\n",
       "      <td>-3.026303e+07</td>\n",
       "    </tr>\n",
       "    <tr>\n",
       "      <th>2</th>\n",
       "      <td>Ridge</td>\n",
       "      <td>-4.124247e+03</td>\n",
       "      <td>-3.054712e+07</td>\n",
       "    </tr>\n",
       "    <tr>\n",
       "      <th>3</th>\n",
       "      <td>LinearRegression</td>\n",
       "      <td>-5.233838e+11</td>\n",
       "      <td>-6.406178e+24</td>\n",
       "    </tr>\n",
       "  </tbody>\n",
       "</table>\n",
       "</div>"
      ],
      "text/plain": [
       "                    Name           MAE           MSE\n",
       "0  RandomForestRegressor -4.453264e+03 -4.033016e+07\n",
       "1                  Lasso -4.024855e+03 -3.026303e+07\n",
       "2                  Ridge -4.124247e+03 -3.054712e+07\n",
       "3       LinearRegression -5.233838e+11 -6.406178e+24"
      ]
     },
     "execution_count": 23,
     "metadata": {},
     "output_type": "execute_result"
    }
   ],
   "source": [
    "regressioncv(new_x,new_y)"
   ]
  },
  {
   "cell_type": "code",
   "execution_count": 24,
   "metadata": {},
   "outputs": [
    {
     "data": {
      "text/html": [
       "<div>\n",
       "<style scoped>\n",
       "    .dataframe tbody tr th:only-of-type {\n",
       "        vertical-align: middle;\n",
       "    }\n",
       "\n",
       "    .dataframe tbody tr th {\n",
       "        vertical-align: top;\n",
       "    }\n",
       "\n",
       "    .dataframe thead th {\n",
       "        text-align: right;\n",
       "    }\n",
       "</style>\n",
       "<table border=\"1\" class=\"dataframe\">\n",
       "  <thead>\n",
       "    <tr style=\"text-align: right;\">\n",
       "      <th></th>\n",
       "      <th>Name</th>\n",
       "      <th>MAE</th>\n",
       "      <th>MSE</th>\n",
       "      <th>RMSE</th>\n",
       "    </tr>\n",
       "  </thead>\n",
       "  <tbody>\n",
       "    <tr>\n",
       "      <th>0</th>\n",
       "      <td>RandomForestRegressor</td>\n",
       "      <td>5.274600e+02</td>\n",
       "      <td>2.610313e+06</td>\n",
       "      <td>7.225400e+02</td>\n",
       "    </tr>\n",
       "    <tr>\n",
       "      <th>1</th>\n",
       "      <td>Lasso</td>\n",
       "      <td>5.134200e+02</td>\n",
       "      <td>2.373850e+06</td>\n",
       "      <td>6.890400e+02</td>\n",
       "    </tr>\n",
       "    <tr>\n",
       "      <th>2</th>\n",
       "      <td>Ridge</td>\n",
       "      <td>5.000500e+02</td>\n",
       "      <td>2.269217e+06</td>\n",
       "      <td>6.736800e+02</td>\n",
       "    </tr>\n",
       "    <tr>\n",
       "      <th>3</th>\n",
       "      <td>LinearRegression</td>\n",
       "      <td>8.673965e+08</td>\n",
       "      <td>1.997201e+21</td>\n",
       "      <td>1.998600e+10</td>\n",
       "    </tr>\n",
       "  </tbody>\n",
       "</table>\n",
       "</div>"
      ],
      "text/plain": [
       "                    Name           MAE           MSE          RMSE\n",
       "0  RandomForestRegressor  5.274600e+02  2.610313e+06  7.225400e+02\n",
       "1                  Lasso  5.134200e+02  2.373850e+06  6.890400e+02\n",
       "2                  Ridge  5.000500e+02  2.269217e+06  6.736800e+02\n",
       "3       LinearRegression  8.673965e+08  1.997201e+21  1.998600e+10"
      ]
     },
     "execution_count": 24,
     "metadata": {},
     "output_type": "execute_result"
    }
   ],
   "source": [
    "regressionfold(new_x,new_y)"
   ]
  },
  {
   "cell_type": "code",
   "execution_count": 25,
   "metadata": {},
   "outputs": [
    {
     "name": "stdout",
     "output_type": "stream",
     "text": [
      "Nilai MAEnya adalah 2702.1260813084423\n",
      "Nilai MSEnya adalah 13728541.746914633\n",
      "Nilai RNSEnya adalah 3705.2046835383644\n"
     ]
    }
   ],
   "source": [
    "from sklearn.linear_model import Lasso,Ridge,LinearRegression\n",
    "from sklearn.model_selection import train_test_split\n",
    "from sklearn.ensemble import RandomForestRegressor\n",
    "from sklearn import metrics\n",
    "x_train,x_test, y_train,y_test = train_test_split(new_x,new_y,random_state=99,test_size=0.2)\n",
    "model_2 = RandomForestRegressor(random_state=32)\n",
    "model_2.fit(x_train,y_train)\n",
    "prediction = model_2.predict(x_test)\n",
    "mae = metrics.mean_absolute_error(y_test,prediction)\n",
    "mse = metrics.mean_squared_error(y_test,prediction)\n",
    "rnse = np.sqrt(metrics.mean_squared_error(y_test, prediction))\n",
    "print(f'Nilai MAEnya adalah {mae}')\n",
    "print(f'Nilai MSEnya adalah {mse}')\n",
    "print(f'Nilai RNSEnya adalah {rnse}')"
   ]
  },
  {
   "cell_type": "code",
   "execution_count": 26,
   "metadata": {},
   "outputs": [
    {
     "data": {
      "text/plain": [
       "Text(0, 0.5, 'Real Price')"
      ]
     },
     "execution_count": 26,
     "metadata": {},
     "output_type": "execute_result"
    },
    {
     "data": {
      "image/png": "[encoded data removed]",
      "text/plain": [
       "<Figure size 1080x576 with 1 Axes>"
      ]
     },
     "metadata": {
      "needs_background": "light"
     },
     "output_type": "display_data"
    }
   ],
   "source": [
    "plt.figure(figsize=(15,8))\n",
    "sns.scatterplot(prediction,y_test)\n",
    "plt.xlabel('Prediction')\n",
    "plt.ylabel('Real Price')"
   ]
  },
  {
   "cell_type": "markdown",
   "metadata": {},
   "source": [
    "# 3rd Modeling - Simplified Model Column"
   ]
  },
  {
   "cell_type": "markdown",
   "metadata": {},
   "source": [
    "Model column in this data has so many unique values. For other option, divide all unique values into 3 categories based on price. There will be 3 category. <br>\n",
    "class - 3 (less than 20000 price) <br>\n",
    "class - 2 (20000 - 40000) <br>\n",
    "class - 1 (more than 40000)"
   ]
  },
  {
   "cell_type": "code",
   "execution_count": 27,
   "metadata": {},
   "outputs": [],
   "source": [
    "def ModelSimple (x):\n",
    "    if(x['MSRP'] < 20000):\n",
    "        return 'Class -3'\n",
    "    if((x['MSRP'] < 40000) and x['MSRP'] >= 20000):\n",
    "        return 'Class -2'\n",
    "    if(x['MSRP'] >= 40000):\n",
    "        return 'Class -1'\n",
    "df_new['Model'] = df_new[['MSRP']].apply(ModelSimple,axis=1)\n",
    "df2_new = df_new.drop('Popularity',axis=1)"
   ]
  },
  {
   "cell_type": "code",
   "execution_count": 28,
   "metadata": {},
   "outputs": [],
   "source": [
    "#Our Target\n",
    "new_y2= df_new['MSRP']\n",
    "# Features\n",
    "new_features_df2 = df2_new.drop(['MSRP'],axis=1)\n",
    "#Change Categorical Value into Indicator Variable\n",
    "new_x2_temp1 = pd.get_dummies(new_features_df2.drop(['Year','Engine HP','Engine Cylinders',\n",
    "                                'Number of Doors','highway MPG','city mpg'],axis=1),drop_first=True)\n",
    "new_x2_temp2 = new_features_df2[['Year','Engine HP','Engine Cylinders',\n",
    "                                'Number of Doors','highway MPG','city mpg']]\n",
    "new_x2 = pd.concat([new_x2_temp1,new_x2_temp2],axis=1)"
   ]
  },
  {
   "cell_type": "code",
   "execution_count": 29,
   "metadata": {},
   "outputs": [
    {
     "data": {
      "text/html": [
       "<div>\n",
       "<style scoped>\n",
       "    .dataframe tbody tr th:only-of-type {\n",
       "        vertical-align: middle;\n",
       "    }\n",
       "\n",
       "    .dataframe tbody tr th {\n",
       "        vertical-align: top;\n",
       "    }\n",
       "\n",
       "    .dataframe thead th {\n",
       "        text-align: right;\n",
       "    }\n",
       "</style>\n",
       "<table border=\"1\" class=\"dataframe\">\n",
       "  <thead>\n",
       "    <tr style=\"text-align: right;\">\n",
       "      <th></th>\n",
       "      <th>MAE</th>\n",
       "      <th>MSE</th>\n",
       "      <th>RMSE</th>\n",
       "    </tr>\n",
       "  </thead>\n",
       "  <tbody>\n",
       "    <tr>\n",
       "      <th>RandomForestRegressor</th>\n",
       "      <td>2383.437716</td>\n",
       "      <td>1.012108e+07</td>\n",
       "      <td>3181.363838</td>\n",
       "    </tr>\n",
       "    <tr>\n",
       "      <th>Lasso</th>\n",
       "      <td>3023.784951</td>\n",
       "      <td>1.596906e+07</td>\n",
       "      <td>3996.130072</td>\n",
       "    </tr>\n",
       "    <tr>\n",
       "      <th>Ridge</th>\n",
       "      <td>3026.328135</td>\n",
       "      <td>1.598668e+07</td>\n",
       "      <td>3998.334626</td>\n",
       "    </tr>\n",
       "    <tr>\n",
       "      <th>LinearRegression</th>\n",
       "      <td>3026.601067</td>\n",
       "      <td>1.599709e+07</td>\n",
       "      <td>3999.636718</td>\n",
       "    </tr>\n",
       "  </tbody>\n",
       "</table>\n",
       "</div>"
      ],
      "text/plain": [
       "                               MAE           MSE         RMSE\n",
       "RandomForestRegressor  2383.437716  1.012108e+07  3181.363838\n",
       "Lasso                  3023.784951  1.596906e+07  3996.130072\n",
       "Ridge                  3026.328135  1.598668e+07  3998.334626\n",
       "LinearRegression       3026.601067  1.599709e+07  3999.636718"
      ]
     },
     "execution_count": 29,
     "metadata": {},
     "output_type": "execute_result"
    }
   ],
   "source": [
    "regression(new_x2,new_y2)"
   ]
  },
  {
   "cell_type": "code",
   "execution_count": 30,
   "metadata": {},
   "outputs": [
    {
     "data": {
      "text/html": [
       "<div>\n",
       "<style scoped>\n",
       "    .dataframe tbody tr th:only-of-type {\n",
       "        vertical-align: middle;\n",
       "    }\n",
       "\n",
       "    .dataframe tbody tr th {\n",
       "        vertical-align: top;\n",
       "    }\n",
       "\n",
       "    .dataframe thead th {\n",
       "        text-align: right;\n",
       "    }\n",
       "</style>\n",
       "<table border=\"1\" class=\"dataframe\">\n",
       "  <thead>\n",
       "    <tr style=\"text-align: right;\">\n",
       "      <th></th>\n",
       "      <th>Name</th>\n",
       "      <th>MAE</th>\n",
       "      <th>MSE</th>\n",
       "      <th>RMSE</th>\n",
       "    </tr>\n",
       "  </thead>\n",
       "  <tbody>\n",
       "    <tr>\n",
       "      <th>0</th>\n",
       "      <td>RandomForestRegressor</td>\n",
       "      <td>482.25</td>\n",
       "      <td>2288967.11</td>\n",
       "      <td>676.60</td>\n",
       "    </tr>\n",
       "    <tr>\n",
       "      <th>1</th>\n",
       "      <td>Lasso</td>\n",
       "      <td>597.22</td>\n",
       "      <td>3207700.72</td>\n",
       "      <td>800.96</td>\n",
       "    </tr>\n",
       "    <tr>\n",
       "      <th>2</th>\n",
       "      <td>Ridge</td>\n",
       "      <td>597.38</td>\n",
       "      <td>3208422.78</td>\n",
       "      <td>801.05</td>\n",
       "    </tr>\n",
       "    <tr>\n",
       "      <th>3</th>\n",
       "      <td>LinearRegression</td>\n",
       "      <td>596.10</td>\n",
       "      <td>3193803.86</td>\n",
       "      <td>799.23</td>\n",
       "    </tr>\n",
       "  </tbody>\n",
       "</table>\n",
       "</div>"
      ],
      "text/plain": [
       "                    Name     MAE         MSE    RMSE\n",
       "0  RandomForestRegressor  482.25  2288967.11  676.60\n",
       "1                  Lasso  597.22  3207700.72  800.96\n",
       "2                  Ridge  597.38  3208422.78  801.05\n",
       "3       LinearRegression  596.10  3193803.86  799.23"
      ]
     },
     "execution_count": 30,
     "metadata": {},
     "output_type": "execute_result"
    }
   ],
   "source": [
    "regressionfold(new_x2,new_y2)"
   ]
  },
  {
   "cell_type": "code",
   "execution_count": 31,
   "metadata": {},
   "outputs": [
    {
     "name": "stdout",
     "output_type": "stream",
     "text": [
      "Nilai MAEnya adalah 2420.505117811421\n",
      "Nilai MSEnya adalah 10933229.342065886\n",
      "Nilai RNSEnya adalah 3306.5434130018443\n"
     ]
    }
   ],
   "source": [
    "from sklearn.linear_model import Lasso,Ridge,LinearRegression\n",
    "from sklearn.model_selection import train_test_split\n",
    "from sklearn.ensemble import RandomForestRegressor\n",
    "from sklearn import metrics\n",
    "x_train,x_test, y_train,y_test = train_test_split(new_x2,new_y2,random_state=101,test_size=0.2)\n",
    "model_2 = RandomForestRegressor(random_state=32)\n",
    "model_2.fit(x_train,y_train)\n",
    "prediction = model_2.predict(x_test)\n",
    "mae = metrics.mean_absolute_error(y_test,prediction)\n",
    "mse = metrics.mean_squared_error(y_test,prediction)\n",
    "rnse = np.sqrt(metrics.mean_squared_error(y_test, prediction))\n",
    "print(f'Nilai MAEnya adalah {mae}')\n",
    "print(f'Nilai MSEnya adalah {mse}')\n",
    "print(f'Nilai RNSEnya adalah {rnse}')"
   ]
  },
  {
   "cell_type": "markdown",
   "metadata": {},
   "source": [
    "Searching for best parameter"
   ]
  },
  {
   "cell_type": "code",
   "execution_count": 32,
   "metadata": {},
   "outputs": [
    {
     "data": {
      "text/plain": [
       "{'min_samples_leaf': 1, 'min_samples_split': 5, 'n_estimators': 250}"
      ]
     },
     "execution_count": 32,
     "metadata": {},
     "output_type": "execute_result"
    }
   ],
   "source": [
    "from sklearn.model_selection import GridSearchCV\n",
    "parameter = {'min_samples_leaf' : [1,2,3,4,5],\n",
    "             'min_samples_split' : [2,3,4,5],\n",
    "            'n_estimators' : [50,100,250]}\n",
    "x_train,x_test, y_train,y_test = train_test_split(new_x2,new_y2,random_state=101)\n",
    "grid_search_cv = GridSearchCV(RandomForestRegressor(random_state=101),parameter, cv=5)\n",
    "grid_search_cv.fit(x_train,y_train)\n",
    "grid_search_cv.best_params_"
   ]
  },
  {
   "cell_type": "markdown",
   "metadata": {},
   "source": [
    "using hyperparam"
   ]
  },
  {
   "cell_type": "code",
   "execution_count": 33,
   "metadata": {},
   "outputs": [
    {
     "name": "stdout",
     "output_type": "stream",
     "text": [
      "Nilai MAEnya adalah 2315.2963153638716\n",
      "Nilai MSEnya adalah 10001081.016421266\n",
      "Nilai RNSEnya adalah 3162.448579253308\n",
      "Nilai percentage adalah 6.960430580100965\n"
     ]
    }
   ],
   "source": [
    "from sklearn.linear_model import Lasso,Ridge,LinearRegression\n",
    "from sklearn.model_selection import train_test_split\n",
    "from sklearn.ensemble import RandomForestRegressor\n",
    "from sklearn import metrics\n",
    "x_train,x_test, y_train,y_test = train_test_split(new_x2,new_y2,random_state=101,test_size=0.2)\n",
    "model_3 = RandomForestRegressor(min_samples_leaf=1, min_samples_split=5, n_estimators=250)\n",
    "model_3.fit(x_train,y_train)\n",
    "prediction = model_3.predict(x_test)\n",
    "mae = metrics.mean_absolute_error(y_test,prediction)\n",
    "mse = metrics.mean_squared_error(y_test,prediction)\n",
    "rnse = np.sqrt(metrics.mean_squared_error(y_test, prediction))\n",
    "percentes = (mae/(y_test.mean())*100)\n",
    "print(f'Nilai MAEnya adalah {mae}')\n",
    "print(f'Nilai MSEnya adalah {mse}')\n",
    "print(f'Nilai RNSEnya adalah {rnse}')\n",
    "print (f'Nilai percentage adalah {percentes}')"
   ]
  },
  {
   "cell_type": "code",
   "execution_count": 34,
   "metadata": {},
   "outputs": [
    {
     "data": {
      "text/plain": [
       "0.9354988475618279"
      ]
     },
     "execution_count": 34,
     "metadata": {},
     "output_type": "execute_result"
    }
   ],
   "source": [
    "metrics.r2_score(y_test,prediction)"
   ]
  },
  {
   "cell_type": "code",
   "execution_count": 35,
   "metadata": {},
   "outputs": [
    {
     "data": {
      "text/plain": [
       "Text(0, 0.5, 'Real Price')"
      ]
     },
     "execution_count": 35,
     "metadata": {},
     "output_type": "execute_result"
    },
    {
     "data": {
      "image/png": "[encoded data removed]",
      "text/plain": [
       "<Figure size 1080x576 with 1 Axes>"
      ]
     },
     "metadata": {
      "needs_background": "light"
     },
     "output_type": "display_data"
    }
   ],
   "source": [
    "plt.figure(figsize=(15,8))\n",
    "sns.scatterplot(prediction,y_test)\n",
    "plt.xlabel('Prediction')\n",
    "plt.ylabel('Real Price')"
   ]
  },
  {
   "cell_type": "code",
   "execution_count": 48,
   "metadata": {},
   "outputs": [],
   "source": [
    "fix_model = RandomForestRegressor(min_samples_leaf=1, min_samples_split=5, n_estimators=250)"
   ]
  },
  {
   "cell_type": "markdown",
   "metadata": {},
   "source": [
    "# Export Model"
   ]
  },
  {
   "cell_type": "code",
   "execution_count": 37,
   "metadata": {},
   "outputs": [],
   "source": [
    "import pickle"
   ]
  },
  {
   "cell_type": "code",
   "execution_count": 45,
   "metadata": {},
   "outputs": [],
   "source": [
    "filename = 'finalized_model.sav'\n",
    "pickle.dump(fix_model, open(filename, 'wb'))"
   ]
  },
  {
   "cell_type": "code",
   "execution_count": 46,
   "metadata": {},
   "outputs": [],
   "source": [
    "filename = 'real_colomn.sav'\n",
    "pickle.dump(df_new.drop('MSRP',axis=1).columns, open(filename , 'wb'))"
   ]
  },
  {
   "cell_type": "code",
   "execution_count": 47,
   "metadata": {},
   "outputs": [],
   "source": [
    "filename = 'x_dummies_colomn.sav'\n",
    "pickle.dump(df_new.columns, open(filename , 'wb'))"
   ]
  },
  {
   "cell_type": "code",
   "execution_count": 41,
   "metadata": {},
   "outputs": [
    {
     "data": {
      "text/plain": [
       "Make                       BMW\n",
       "Model                 Class -2\n",
       "Year                      2016\n",
       "Engine Fuel Type       Premium\n",
       "Engine HP                  180\n",
       "Engine Cylinders             4\n",
       "Transmission Type    AUTOMATIC\n",
       "Driven_Wheels              AWD\n",
       "Number of Doors              4\n",
       "Vehicle Size           Midsize\n",
       "Vehicle Style            Sedan\n",
       "highway MPG                 35\n",
       "city mpg                    23\n",
       "MSRP                     35150\n",
       "Name: 100, dtype: object"
      ]
     },
     "execution_count": 41,
     "metadata": {},
     "output_type": "execute_result"
    }
   ],
   "source": [
    "df2_new.iloc[100]"
   ]
  }
 ],
 "metadata": {
  "kernelspec": {
   "display_name": "Python 3",
   "language": "python",
   "name": "python3"
  },
  "language_info": {
   "codemirror_mode": {
    "name": "ipython",
    "version": 3
   },
   "file_extension": ".py",
   "mimetype": "text/x-python",
   "name": "python",
   "nbconvert_exporter": "python",
   "pygments_lexer": "ipython3",
   "version": "3.7.3"
  }
 },
 "nbformat": 4,
 "nbformat_minor": 2
}
